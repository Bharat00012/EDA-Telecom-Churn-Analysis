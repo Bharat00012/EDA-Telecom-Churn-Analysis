{
  "nbformat": 4,
  "nbformat_minor": 0,
  "metadata": {
    "colab": {
      "private_outputs": true,
      "provenance": [],
      "collapsed_sections": [
        "vncDsAP0Gaoa",
        "FJNUwmbgGyua",
        "w6K7xa23Elo4",
        "yQaldy8SH6Dl",
        "PH-0ReGfmX4f",
        "mDgbUHAGgjLW",
        "O_i_v8NEhb9l",
        "HhfV-JJviCcP",
        "Y3lxredqlCYt",
        "3RnN4peoiCZX",
        "x71ZqKXriCWQ",
        "7hBIi_osiCS2",
        "JlHwYmJAmNHm",
        "35m5QtbWiB9F",
        "PoPl-ycgm1ru",
        "H0kj-8xxnORC",
        "nA9Y7ga8ng1Z",
        "PBTbrJXOngz2",
        "u3PMJOP6ngxN",
        "dauF4eBmngu3",
        "bKJF3rekwFvQ",
        "MSa1f5Uengrz",
        "GF8Ens_Soomf",
        "0wOQAZs5pc--",
        "K5QZ13OEpz2H",
        "lQ7QKXXCp7Bj",
        "448CDAPjqfQr",
        "KSlN3yHqYklG",
        "t6dVpIINYklI",
        "ijmpgYnKYklI",
        "-JiQyfWJYklI",
        "EM7whBJCYoAo",
        "fge-S5ZAYoAp",
        "85gYPyotYoAp",
        "RoGjAbkUYoAp",
        "4Of9eVA-YrdM",
        "iky9q4vBYrdO",
        "F6T5p64dYrdO",
        "y-Ehk30pYrdP",
        "bamQiAODYuh1",
        "QHF8YVU7Yuh3",
        "GwzvFGzlYuh3",
        "qYpmQ266Yuh3",
        "OH-pJp9IphqM",
        "bbFf2-_FphqN",
        "_ouA3fa0phqN",
        "Seke61FWphqN",
        "PIIx-8_IphqN",
        "t27r6nlMphqO",
        "r2jJGEOYphqO",
        "b0JNsNcRphqO",
        "BZR9WyysphqO",
        "jj7wYXLtphqO",
        "eZrbJ2SmphqO",
        "rFu4xreNphqO",
        "YJ55k-q6phqO",
        "gCFgpxoyphqP",
        "OVtJsKN_phqQ",
        "lssrdh5qphqQ",
        "U2RJ9gkRphqQ",
        "1M8mcRywphqQ",
        "tgIPom80phqQ",
        "JMzcOPDDphqR",
        "x-EpHcCOp1ci",
        "X_VqEhTip1ck",
        "8zGJKyg5p1ck",
        "PVzmfK_Ep1ck",
        "n3dbpmDWp1ck",
        "ylSl6qgtp1ck",
        "ZWILFDl5p1ck",
        "M7G43BXep1ck",
        "Ag9LCva-p1cl",
        "E6MkPsBcp1cl",
        "2cELzS2fp1cl",
        "3MPXvC8up1cl",
        "NC_X3p0fY2L0",
        "UV0SzAkaZNRQ",
        "YPEH6qLeZNRQ",
        "q29F0dvdveiT",
        "EXh0U9oCveiU",
        "22aHeOlLveiV",
        "JcMwzZxoAimU",
        "8G2x9gOozGDZ",
        "gCX9965dhzqZ",
        "gIfDvo9L0UH2"
      ],
      "include_colab_link": true
    },
    "kernelspec": {
      "name": "python3",
      "display_name": "Python 3"
    },
    "language_info": {
      "name": "python"
    }
  },
  "cells": [
    {
      "cell_type": "markdown",
      "metadata": {
        "id": "view-in-github",
        "colab_type": "text"
      },
      "source": [
        "<a href=\"https://colab.research.google.com/github/Bharat00012/EDA-Telecom-Churn-Analysis/blob/main/EDA_Telecom_Churn_Analysis.ipynb\" target=\"_parent\"><img src=\"https://colab.research.google.com/assets/colab-badge.svg\" alt=\"Open In Colab\"/></a>"
      ]
    },
    {
      "cell_type": "markdown",
      "source": [
        "# **Project Name**    - EDA Telecom Churn Analysis\n",
        "\n"
      ],
      "metadata": {
        "id": "vncDsAP0Gaoa"
      }
    },
    {
      "cell_type": "markdown",
      "source": [
        "##### **Project Type**    - EDA\n",
        "##### **Contribution**    - Individual\n",
        "####  **Name**           - Bharat Solanki\n"
      ],
      "metadata": {
        "id": "beRrZCGUAJYm"
      }
    },
    {
      "cell_type": "markdown",
      "source": [
        "# **Project Summary -**"
      ],
      "metadata": {
        "id": "FJNUwmbgGyua"
      }
    },
    {
      "cell_type": "markdown",
      "source": [
        "The goal of this project is to perform churn analysis on a telecommunications dataset using machine learning techniques. The data includes customer demographic information, usage behavior, and plan details, as well as a churn status variable that indicates whether a customer has cancelled their service or not.\n",
        "\n",
        "We will begin by importing the data into Google Colab and exploring it to understand the different variables and their relationships. We will then prepare the data by cleaning it, transforming it, and splitting it into training and testing sets.\n",
        "\n",
        "Using machine learning algorithms such as logistic regression, decision trees, and random forests, we will build predictive models that can identify which customers are likely to churn. We will evaluate the performance of these models using metrics such as accuracy, precision, recall, and F1 score.\n",
        "\n",
        "Finally, we will use visualization libraries like Matplotlib and Seaborn to create visualizations that illustrate our findings and help us communicate our results to stakeholders.\n",
        "\n",
        "The insights gained from this churn analysis will help the telecommunications company understand why customers are churning and take proactive steps to reduce churn and retain customers."
      ],
      "metadata": {
        "id": "F6v_1wHtG2nS"
      }
    },
    {
      "cell_type": "markdown",
      "source": [
        "# **GitHub Link -**"
      ],
      "metadata": {
        "id": "w6K7xa23Elo4"
      }
    },
    {
      "cell_type": "markdown",
      "source": [
        "https://github.com/Bharat00012/EDA-Telecom-Churn-Analysis"
      ],
      "metadata": {
        "id": "h1o69JH3Eqqn"
      }
    },
    {
      "cell_type": "markdown",
      "source": [
        "# **Problem Statement**\n"
      ],
      "metadata": {
        "id": "yQaldy8SH6Dl"
      }
    },
    {
      "cell_type": "markdown",
      "source": [
        "The problem statement for this churn analysis project is to identify the factors that contribute to customer churn in a telecommunications company and develop strategies to reduce churn and retain customers.\n",
        "\n",
        "Customer churn is a significant problem for telecommunications companies, as it can lead to a loss of revenue and a decline in customer satisfaction. Understanding why customers are leaving and taking steps to address those issues is critical to building a loyal customer base and improving the bottom line.\n",
        "\n",
        "The goal of this project is to analyze customer demographic information, usage behavior, and plan details to identify patterns and trends that contribute to customer churn. By building predictive models that can identify which customers are likely to churn, the telecommunications company can take proactive steps to retain those customers and improve customer satisfaction.\n",
        "\n",
        "The outcome of this project will be a set of actionable insights and recommendations that the company can use to reduce customer churn and improve its bottom line. By developing effective strategies to address the factors that contribute to churn, the company can build a stronger, more loyal customer base and improve its competitive position in the telecommunications industry."
      ],
      "metadata": {
        "id": "DpeJGUA3kjGy"
      }
    },
    {
      "cell_type": "markdown",
      "source": [
        "#### **Define Your Business Objective?**"
      ],
      "metadata": {
        "id": "PH-0ReGfmX4f"
      }
    },
    {
      "cell_type": "markdown",
      "source": [
        "The business objective of performing churn analysis on the telecommunications dataset is to identify the factors that contribute to customer churn and to develop strategies to reduce churn and retain customers.\n",
        "\n",
        "By analyzing customer demographic information, usage behavior, and plan details, we can gain insights into why customers are cancelling their service and take steps to address those issues. For example, we may find that customers in a particular demographic group are more likely to churn, or that customers who use a particular feature of the service are more likely to cancel.\n",
        "\n",
        "By developing predictive models that can identify which customers are likely to churn, we can take proactive steps to retain those customers. For example, we may offer targeted promotions or incentives to customers who are at risk of cancelling their service.\n",
        "\n",
        "Ultimately, the goal of this churn analysis is to improve customer satisfaction, reduce customer churn, and increase revenue for the telecommunications company. By understanding why customers are leaving and taking steps to address those issues, the company can build a stronger, more loyal customer base and improve its bottom line."
      ],
      "metadata": {
        "id": "PhDvGCAqmjP1"
      }
    },
    {
      "cell_type": "markdown",
      "source": [
        "# **General Guidelines** : -  "
      ],
      "metadata": {
        "id": "mDgbUHAGgjLW"
      }
    },
    {
      "cell_type": "markdown",
      "source": [
        "1.   Well-structured, formatted, and commented code is required.\n",
        "2.   Exception Handling, Production Grade Code & Deployment Ready Code will be a plus. Those students will be awarded some additional credits.\n",
        "     \n",
        "     The additional credits will have advantages over other students during Star Student selection.\n",
        "       \n",
        "             [ Note: - Deployment Ready Code is defined as, the whole .ipynb notebook should be executable in one go\n",
        "                       without a single error logged. ]\n",
        "\n",
        "3.   Each and every logic should have proper comments.\n",
        "4. You may add as many number of charts you want. Make Sure for each and every chart the following format should be answered.\n",
        "        \n",
        "\n",
        "```\n",
        "# Chart visualization code\n",
        "```\n",
        "            \n",
        "\n",
        "*   Why did you pick the specific chart?\n",
        "*   What is/are the insight(s) found from the chart?\n",
        "* Will the gained insights help creating a positive business impact?\n",
        "Are there any insights that lead to negative growth? Justify with specific reason.\n",
        "\n",
        "5. You have to create at least 20 logical & meaningful charts having important insights.\n",
        "\n",
        "\n",
        "[ Hints : - Do the Vizualization in  a structured way while following \"UBM\" Rule.\n",
        "\n",
        "U - Univariate Analysis,\n",
        "\n",
        "B - Bivariate Analysis (Numerical - Categorical, Numerical - Numerical, Categorical - Categorical)\n",
        "\n",
        "M - Multivariate Analysis\n",
        " ]\n",
        "\n",
        "\n",
        "\n"
      ],
      "metadata": {
        "id": "ZrxVaUj-hHfC"
      }
    },
    {
      "cell_type": "markdown",
      "source": [
        "# ***Let's Begin !***"
      ],
      "metadata": {
        "id": "O_i_v8NEhb9l"
      }
    },
    {
      "cell_type": "markdown",
      "source": [
        "## ***1. Know Your Data***"
      ],
      "metadata": {
        "id": "HhfV-JJviCcP"
      }
    },
    {
      "cell_type": "markdown",
      "source": [
        "### Import Libraries"
      ],
      "metadata": {
        "id": "Y3lxredqlCYt"
      }
    },
    {
      "cell_type": "code",
      "source": [
        "# Import Libraries\n",
        "import pandas as pd\n",
        "import numpy as np\n",
        "\n",
        "# Import Visualization Libraries\n",
        "import seaborn as sns\n",
        "import matplotlib.pyplot as plt\n",
        "%matplotlib inline\n",
        "\n",
        "# Import warnings\n",
        "import warnings\n",
        "warnings.filterwarnings('ignore')"
      ],
      "metadata": {
        "id": "M8Vqi-pPk-HR"
      },
      "execution_count": null,
      "outputs": []
    },
    {
      "cell_type": "markdown",
      "source": [
        "### Dataset Loading"
      ],
      "metadata": {
        "id": "3RnN4peoiCZX"
      }
    },
    {
      "cell_type": "code",
      "source": [
        "# Load Dataset\n",
        "from google.colab import drive\n",
        "drive.mount('/content/drive')"
      ],
      "metadata": {
        "id": "4CkvbW_SlZ_R"
      },
      "execution_count": null,
      "outputs": []
    },
    {
      "cell_type": "code",
      "source": [
        "path ='/content/drive/MyDrive/almabatter data collab/Telecom Churn.csv'\n",
        "telecom = pd.read_csv(path)"
      ],
      "metadata": {
        "id": "phhgIThEdx_s"
      },
      "execution_count": null,
      "outputs": []
    },
    {
      "cell_type": "markdown",
      "source": [
        "### Dataset First View"
      ],
      "metadata": {
        "id": "x71ZqKXriCWQ"
      }
    },
    {
      "cell_type": "code",
      "source": [
        "# Dataset First Look\n",
        "# View the first 5 rows of the dataset\n",
        "telecom.head()"
      ],
      "metadata": {
        "id": "LWNFOSvLl09H"
      },
      "execution_count": null,
      "outputs": []
    },
    {
      "cell_type": "code",
      "source": [
        "telecom.tail()"
      ],
      "metadata": {
        "id": "hMIN7-PVebIQ"
      },
      "execution_count": null,
      "outputs": []
    },
    {
      "cell_type": "markdown",
      "source": [
        "### Dataset Rows & Columns count"
      ],
      "metadata": {
        "id": "7hBIi_osiCS2"
      }
    },
    {
      "cell_type": "code",
      "source": [
        "# Dataset Rows & Columns count\n",
        "# Get the number of rows and columns in the dataset by using shape\n",
        "num_rows, num_cols = telecom.shape\n",
        "print(\"Number of rows: \", num_rows)\n",
        "print(\"Number of columns: \", num_cols)"
      ],
      "metadata": {
        "id": "2K869d66enJk"
      },
      "execution_count": null,
      "outputs": []
    },
    {
      "cell_type": "code",
      "source": [
        "# Dataset Rows & Columns count\n",
        "telecom.shape\n"
      ],
      "metadata": {
        "id": "Kllu7SJgmLij"
      },
      "execution_count": null,
      "outputs": []
    },
    {
      "cell_type": "markdown",
      "source": [
        "### Dataset Information"
      ],
      "metadata": {
        "id": "JlHwYmJAmNHm"
      }
    },
    {
      "cell_type": "code",
      "source": [
        "# Dataset Info\n",
        "telecom.info"
      ],
      "metadata": {
        "id": "e9hRXRi6meOf"
      },
      "execution_count": null,
      "outputs": []
    },
    {
      "cell_type": "markdown",
      "source": [
        "#### Duplicate Values"
      ],
      "metadata": {
        "id": "35m5QtbWiB9F"
      }
    },
    {
      "cell_type": "code",
      "source": [
        "# Dataset Duplicate Value Count\n",
        "# Count the number of duplicate values in the dataset\n",
        "num_duplicates = telecom.duplicated().sum()\n",
        "print(\"Number of duplicates: \", num_duplicates)"
      ],
      "metadata": {
        "id": "1sLdpKYkmox0"
      },
      "execution_count": null,
      "outputs": []
    },
    {
      "cell_type": "markdown",
      "source": [
        "#### Missing Values/Null Values"
      ],
      "metadata": {
        "id": "PoPl-ycgm1ru"
      }
    },
    {
      "cell_type": "code",
      "source": [
        "# Missing Values/Null Values Count\n",
        "# Count the number of missing values in each column\n",
        "missing_values = telecom.isnull().sum()\n",
        "print(\"Number of missing values in each column:\")\n",
        "print(missing_values)"
      ],
      "metadata": {
        "id": "GgHWkxvamxVg"
      },
      "execution_count": null,
      "outputs": []
    },
    {
      "cell_type": "code",
      "source": [
        "# Count the Total missing value\n",
        "total_missing = telecom.isnull().sum().sum()\n",
        "print(\"Total number of missing values: \", total_missing)"
      ],
      "metadata": {
        "id": "ElHewLhyl2t-"
      },
      "execution_count": null,
      "outputs": []
    },
    {
      "cell_type": "code",
      "source": [
        "# Visualizing the missing values\n",
        "# now checking Null value of dataset by using heatmap plotting\n",
        "sns.heatmap(telecom.isnull(),cbar=False)"
      ],
      "metadata": {
        "id": "3q5wnI3om9sJ"
      },
      "execution_count": null,
      "outputs": []
    },
    {
      "cell_type": "markdown",
      "source": [
        "### What did you know about your dataset?"
      ],
      "metadata": {
        "id": "H0kj-8xxnORC"
      }
    },
    {
      "cell_type": "markdown",
      "source": [
        "This dataset is from telecom industry. There is threat to the company when customer churn happens. We have to analyze the customer churn and insights of it. And determine why the customer churn is happening.\n",
        "\n",
        "In this dataset, there are 3333 number of rows and 20 feature columns. Also there are no missing values and duplicate values in dataset."
      ],
      "metadata": {
        "id": "gfoNAAC-nUe_"
      }
    },
    {
      "cell_type": "markdown",
      "source": [
        "## ***2. Understanding Your Variables***"
      ],
      "metadata": {
        "id": "nA9Y7ga8ng1Z"
      }
    },
    {
      "cell_type": "code",
      "source": [
        "# Dataset Columns\n",
        "telecom.columns"
      ],
      "metadata": {
        "id": "j7xfkqrt5Ag5"
      },
      "execution_count": null,
      "outputs": []
    },
    {
      "cell_type": "code",
      "source": [
        "# Dataset Describe\n",
        "telecom.describe(include='all').round(2)"
      ],
      "metadata": {
        "id": "DnOaZdaE5Q5t"
      },
      "execution_count": null,
      "outputs": []
    },
    {
      "cell_type": "markdown",
      "source": [
        "### Variables Description"
      ],
      "metadata": {
        "id": "PBTbrJXOngz2"
      }
    },
    {
      "cell_type": "markdown",
      "source": [
        "State: Categorica for the 50 states and capital DC.\n",
        "\n",
        "Account Length: Number of days account has been active.\n",
        "\n",
        "Area Code: Code Number of Area having some States included in each area code.\n",
        "\n",
        "International Plan: International Plan activated (yes, no)\n",
        "\n",
        "Voice Mail Plan: Voice Mail Plan activated (yes,no)\n",
        "\n",
        "Voice Mail Message: Count of vmail messages sent.\n",
        "\n",
        "Day Minutes: Total minutes uesd during day time\n",
        "\n",
        "Day calls: Total number of calls during day time\n",
        "\n",
        "Day Charge: Total charge during day time\n",
        "\n",
        "Evening Minutes: Total minutes used during evening time\n",
        "\n",
        "Evening Calls: Total number of calls during evening time\n",
        "\n",
        "Evening Charge: Total charge during evening time\n",
        "\n",
        "Night Minutes: Total minutes used during night time\n",
        "\n",
        "Night Calls: Total number of calls during night time\n",
        "\n",
        "Night Charge: Total charge during night time\n",
        "\n",
        "International Minutes: Total minutes used of international call\n",
        "\n",
        "International Calls: Total number of international calls\n",
        "\n",
        "International Charge: Total charge of international calls\n",
        "\n",
        "Customer Service calls: Number of calls to customer service\n",
        "\n",
        "Churn: Customer churn (True=1,False=0)"
      ],
      "metadata": {
        "id": "aJV4KIxSnxay"
      }
    },
    {
      "cell_type": "markdown",
      "source": [
        "### Check Unique Values for each variable."
      ],
      "metadata": {
        "id": "u3PMJOP6ngxN"
      }
    },
    {
      "cell_type": "code",
      "source": [
        "# Check Unique Values for each variable.\n",
        "\n",
        "for s in telecom.columns:\n",
        "  print(f'Number of unique value in {s} is {telecom[s].nunique()}')"
      ],
      "metadata": {
        "id": "zms12Yq5n-jE"
      },
      "execution_count": null,
      "outputs": []
    },
    {
      "cell_type": "markdown",
      "source": [
        "## 3. ***Data Wrangling***"
      ],
      "metadata": {
        "id": "dauF4eBmngu3"
      }
    },
    {
      "cell_type": "markdown",
      "source": [
        "### Data Wrangling Code"
      ],
      "metadata": {
        "id": "bKJF3rekwFvQ"
      }
    },
    {
      "cell_type": "code",
      "source": [
        "# let's create a copy of dataset for doing Data Wrangling\n",
        "telecom_data = telecom.copy()"
      ],
      "metadata": {
        "id": "wk-9a2fpoLcV"
      },
      "execution_count": null,
      "outputs": []
    },
    {
      "cell_type": "code",
      "source": [
        "# let's check how many customer has leave the company\n",
        "churn = pd.DataFrame(telecom_data['Churn'].value_counts())\n",
        "churn['Churn Rate'] = round(churn*100/len(telecom_data),2)"
      ],
      "metadata": {
        "id": "oIxgYC1PrwF3"
      },
      "execution_count": null,
      "outputs": []
    },
    {
      "cell_type": "code",
      "source": [
        "churn"
      ],
      "metadata": {
        "id": "A4Cw73_Cr0I9"
      },
      "execution_count": null,
      "outputs": []
    },
    {
      "cell_type": "code",
      "source": [
        "# let's check the churn rate along with area code\n",
        "churn_area = pd.DataFrame(telecom_data.groupby('Area code')['Churn'].value_counts())\n",
        "churn_area['Churn Rate'] = round(churn_area*100/len(telecom_data),2)"
      ],
      "metadata": {
        "id": "JKdTmcSRr4jA"
      },
      "execution_count": null,
      "outputs": []
    },
    {
      "cell_type": "code",
      "source": [
        "churn_area"
      ],
      "metadata": {
        "id": "bTV-wuSpr-Az"
      },
      "execution_count": null,
      "outputs": []
    },
    {
      "cell_type": "code",
      "source": [
        "# Let's create a funtion to get mean and median along with Area Code\n",
        "def get_mean_median(dataset,area_code):\n",
        "  try:\n",
        "    return pd.concat([dataset[dataset['Area code']==area_code].describe().round(2).iloc[1], dataset[dataset['Area code']==area_code].describe().round(2).iloc[5]], axis=1).rename(columns={'50%':'Median'})\n",
        "  except:\n",
        "    print(\"Invalid Area Code\")\n"
      ],
      "metadata": {
        "id": "SqWS-nPQsDYG"
      },
      "execution_count": null,
      "outputs": []
    },
    {
      "cell_type": "code",
      "source": [
        "get_mean_median(telecom_data,408)"
      ],
      "metadata": {
        "id": "gIblpknTsI9Y"
      },
      "execution_count": null,
      "outputs": []
    },
    {
      "cell_type": "code",
      "source": [
        "get_mean_median(telecom_data, 415)"
      ],
      "metadata": {
        "id": "td63hFtKsIvP"
      },
      "execution_count": null,
      "outputs": []
    },
    {
      "cell_type": "code",
      "source": [
        "get_mean_median(telecom_data, 510)"
      ],
      "metadata": {
        "id": "RyrAVWpLsIDa"
      },
      "execution_count": null,
      "outputs": []
    },
    {
      "cell_type": "code",
      "source": [
        "# let's count the churn on the basis of state\n",
        "churn_state = pd.DataFrame(telecom_data.groupby('State')['Churn'].value_counts()).rename(columns={'Churn':'count of Churn'})\n",
        "churn_state"
      ],
      "metadata": {
        "id": "5wSwIxQdyLux"
      },
      "execution_count": null,
      "outputs": []
    },
    {
      "cell_type": "code",
      "source": [
        "# let's count the churn on the basis of international plan\n",
        "churn_iplan=pd.DataFrame(telecom_data.groupby('International plan')['Churn'].value_counts()).rename(columns={'Churn':'count of Churn'})\n",
        "churn_iplan['churn_rate'] = round(churn_iplan*100/len(telecom_data),2)\n",
        "churn_iplan"
      ],
      "metadata": {
        "id": "f-LI6dQuyLaZ"
      },
      "execution_count": null,
      "outputs": []
    },
    {
      "cell_type": "code",
      "source": [
        "# let's count the churn on the basis of Voice mail plan\n",
        "churn_vplan = pd.DataFrame(telecom_data.groupby('Voice mail plan')['Churn'].value_counts()).rename(columns={'Churn':'count of Churn'})\n",
        "churn_vplan['churn rate'] = round(churn_vplan*100/len(telecom_data),2)\n",
        "churn_vplan"
      ],
      "metadata": {
        "id": "GQZL5wOgyLGk"
      },
      "execution_count": null,
      "outputs": []
    },
    {
      "cell_type": "code",
      "source": [
        "pd.DataFrame(telecom_data.groupby((telecom_data['International plan']=='Yes') & (telecom_data['Voice mail plan']=='Yes'))['Churn'].value_counts()).rename(columns={'Churn':'Churn_counts'}).iloc[2:]"
      ],
      "metadata": {
        "id": "td6l8kE1yK1a"
      },
      "execution_count": null,
      "outputs": []
    },
    {
      "cell_type": "code",
      "source": [
        "# let's check churn customers who have both International and voice mail plan\n",
        "churn_iplan_vplan= pd.DataFrame(telecom_data.groupby((telecom_data['International plan']=='Yes') & (telecom_data['Voice mail plan']=='Yes'))['Churn'].value_counts()).rename(columns={'Churn':'Churn_counts'}).iloc[2:]\n",
        "churn_iplan_vplan['churn rate'] = round(churn_iplan_vplan*100/len(telecom_data),2)\n",
        "churn_iplan_vplan"
      ],
      "metadata": {
        "id": "9gdgY8P2yg0z"
      },
      "execution_count": null,
      "outputs": []
    },
    {
      "cell_type": "code",
      "source": [
        "# let's check churn customers who have only International plan but not voice mail plan\n",
        "churn_iplan_novplan= pd.DataFrame(telecom_data.groupby((telecom_data['International plan']=='Yes') & (telecom_data['Voice mail plan']=='No'))['Churn'].value_counts()).rename(columns={'Churn':'Churn_counts'}).iloc[2:]\n",
        "churn_iplan_novplan['churn rate'] = round(churn_iplan_novplan*100/len(telecom_data),2)\n",
        "churn_iplan_novplan"
      ],
      "metadata": {
        "id": "g_StkOsbygl8"
      },
      "execution_count": null,
      "outputs": []
    },
    {
      "cell_type": "code",
      "source": [
        "# let's check churn customers who have only voice plan but not international plan\n",
        "churn_noiplan_vplan= pd.DataFrame(telecom_data.groupby((telecom_data['International plan']=='No') & (telecom_data['Voice mail plan']=='Yes'))['Churn'].value_counts()).rename(columns={'Churn':'Churn_counts'}).iloc[2:]\n",
        "churn_noiplan_vplan['churn rate'] = round(churn_noiplan_vplan*100/len(telecom_data),2)\n",
        "churn_noiplan_vplan"
      ],
      "metadata": {
        "id": "isdAh0B4yd4v"
      },
      "execution_count": null,
      "outputs": []
    },
    {
      "cell_type": "code",
      "source": [
        "# let's check churn customers who neither have international plan nor voice mail plan\n",
        "churn_noiplan_novplan= pd.DataFrame(telecom_data.groupby((telecom_data['International plan']=='No') & (telecom_data['Voice mail plan']=='No'))['Churn'].value_counts()).rename(columns={'Churn':'Churn_counts'}).iloc[2:]\n",
        "churn_noiplan_novplan['churn rate'] = round(churn_noiplan_novplan*100/len(telecom_data),2)\n",
        "churn_noiplan_novplan"
      ],
      "metadata": {
        "id": "rK6IwxGHydq9"
      },
      "execution_count": null,
      "outputs": []
    },
    {
      "cell_type": "code",
      "source": [
        "print(f'Total customer churn are :{churn.iloc[1,0]}')\n",
        "print(f'Customers with both international and Voice mail plan :{churn_iplan_vplan.iloc[1,0]}')\n",
        "print(f'Customers with international plan but no Voice mail plan :{churn_iplan_novplan.iloc[1,0]}')\n",
        "print(f'Customers with no international plan but with Voice mail plan :{churn_noiplan_vplan.iloc[1,0]}')\n",
        "print(f'Customers with neither international plan nor having Voice mail plan :{churn_noiplan_novplan.iloc[1,0]}')"
      ],
      "metadata": {
        "id": "FG4xl3KDydez"
      },
      "execution_count": null,
      "outputs": []
    },
    {
      "cell_type": "markdown",
      "source": [
        "### What all manipulations have you done and insights you found?"
      ],
      "metadata": {
        "id": "MSa1f5Uengrz"
      }
    },
    {
      "cell_type": "code",
      "source": [
        "telecom.columns"
      ],
      "metadata": {
        "id": "mPY152KJy7hf"
      },
      "execution_count": null,
      "outputs": []
    },
    {
      "cell_type": "markdown",
      "source": [
        "![image.png](data:image/png;base64,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)\n"
      ],
      "metadata": {
        "id": "eBQhLBdZzTr9"
      }
    },
    {
      "cell_type": "markdown",
      "source": [
        "## ***4. Data Vizualization, Storytelling & Experimenting with charts : Understand the relationships between variables***"
      ],
      "metadata": {
        "id": "GF8Ens_Soomf"
      }
    },
    {
      "cell_type": "markdown",
      "source": [
        "#### Chart - 1"
      ],
      "metadata": {
        "id": "0wOQAZs5pc--"
      }
    },
    {
      "cell_type": "code",
      "source": [
        "# Chart - 1 visualization code"
      ],
      "metadata": {
        "id": "7v_ESjsspbW7"
      },
      "execution_count": null,
      "outputs": []
    },
    {
      "cell_type": "markdown",
      "source": [
        "##### 1. Why did you pick the specific chart?"
      ],
      "metadata": {
        "id": "K5QZ13OEpz2H"
      }
    },
    {
      "cell_type": "markdown",
      "source": [
        "Answer Here."
      ],
      "metadata": {
        "id": "XESiWehPqBRc"
      }
    },
    {
      "cell_type": "markdown",
      "source": [
        "##### 2. What is/are the insight(s) found from the chart?"
      ],
      "metadata": {
        "id": "lQ7QKXXCp7Bj"
      }
    },
    {
      "cell_type": "markdown",
      "source": [
        "Answer Here"
      ],
      "metadata": {
        "id": "C_j1G7yiqdRP"
      }
    },
    {
      "cell_type": "markdown",
      "source": [
        "##### 3. Will the gained insights help creating a positive business impact?\n",
        "Are there any insights that lead to negative growth? Justify with specific reason."
      ],
      "metadata": {
        "id": "448CDAPjqfQr"
      }
    },
    {
      "cell_type": "markdown",
      "source": [
        "Answer Here"
      ],
      "metadata": {
        "id": "3cspy4FjqxJW"
      }
    },
    {
      "cell_type": "markdown",
      "source": [
        "#### Chart - 2"
      ],
      "metadata": {
        "id": "KSlN3yHqYklG"
      }
    },
    {
      "cell_type": "code",
      "source": [
        "# Chart - 2 visualization code"
      ],
      "metadata": {
        "id": "R4YgtaqtYklH"
      },
      "execution_count": null,
      "outputs": []
    },
    {
      "cell_type": "markdown",
      "source": [
        "##### 1. Why did you pick the specific chart?"
      ],
      "metadata": {
        "id": "t6dVpIINYklI"
      }
    },
    {
      "cell_type": "markdown",
      "source": [
        "Answer Here."
      ],
      "metadata": {
        "id": "5aaW0BYyYklI"
      }
    },
    {
      "cell_type": "markdown",
      "source": [
        "##### 2. What is/are the insight(s) found from the chart?"
      ],
      "metadata": {
        "id": "ijmpgYnKYklI"
      }
    },
    {
      "cell_type": "markdown",
      "source": [
        "Answer Here"
      ],
      "metadata": {
        "id": "PSx9atu2YklI"
      }
    },
    {
      "cell_type": "markdown",
      "source": [
        "##### 3. Will the gained insights help creating a positive business impact?\n",
        "Are there any insights that lead to negative growth? Justify with specific reason."
      ],
      "metadata": {
        "id": "-JiQyfWJYklI"
      }
    },
    {
      "cell_type": "markdown",
      "source": [
        "Answer Here"
      ],
      "metadata": {
        "id": "BcBbebzrYklV"
      }
    },
    {
      "cell_type": "markdown",
      "source": [
        "#### Chart - 3"
      ],
      "metadata": {
        "id": "EM7whBJCYoAo"
      }
    },
    {
      "cell_type": "code",
      "source": [
        "# Chart - 3 visualization code"
      ],
      "metadata": {
        "id": "t6GMdE67YoAp"
      },
      "execution_count": null,
      "outputs": []
    },
    {
      "cell_type": "markdown",
      "source": [
        "##### 1. Why did you pick the specific chart?"
      ],
      "metadata": {
        "id": "fge-S5ZAYoAp"
      }
    },
    {
      "cell_type": "markdown",
      "source": [
        "Answer Here."
      ],
      "metadata": {
        "id": "5dBItgRVYoAp"
      }
    },
    {
      "cell_type": "markdown",
      "source": [
        "##### 2. What is/are the insight(s) found from the chart?"
      ],
      "metadata": {
        "id": "85gYPyotYoAp"
      }
    },
    {
      "cell_type": "markdown",
      "source": [
        "Answer Here"
      ],
      "metadata": {
        "id": "4jstXR6OYoAp"
      }
    },
    {
      "cell_type": "markdown",
      "source": [
        "##### 3. Will the gained insights help creating a positive business impact?\n",
        "Are there any insights that lead to negative growth? Justify with specific reason."
      ],
      "metadata": {
        "id": "RoGjAbkUYoAp"
      }
    },
    {
      "cell_type": "markdown",
      "source": [
        "Answer Here"
      ],
      "metadata": {
        "id": "zfJ8IqMcYoAp"
      }
    },
    {
      "cell_type": "markdown",
      "source": [
        "#### Chart - 4"
      ],
      "metadata": {
        "id": "4Of9eVA-YrdM"
      }
    },
    {
      "cell_type": "code",
      "source": [
        "# Chart - 4 visualization code"
      ],
      "metadata": {
        "id": "irlUoxc8YrdO"
      },
      "execution_count": null,
      "outputs": []
    },
    {
      "cell_type": "markdown",
      "source": [
        "##### 1. Why did you pick the specific chart?"
      ],
      "metadata": {
        "id": "iky9q4vBYrdO"
      }
    },
    {
      "cell_type": "markdown",
      "source": [
        "Answer Here."
      ],
      "metadata": {
        "id": "aJRCwT6DYrdO"
      }
    },
    {
      "cell_type": "markdown",
      "source": [
        "##### 2. What is/are the insight(s) found from the chart?"
      ],
      "metadata": {
        "id": "F6T5p64dYrdO"
      }
    },
    {
      "cell_type": "markdown",
      "source": [
        "Answer Here"
      ],
      "metadata": {
        "id": "Xx8WAJvtYrdO"
      }
    },
    {
      "cell_type": "markdown",
      "source": [
        "##### 3. Will the gained insights help creating a positive business impact?\n",
        "Are there any insights that lead to negative growth? Justify with specific reason."
      ],
      "metadata": {
        "id": "y-Ehk30pYrdP"
      }
    },
    {
      "cell_type": "markdown",
      "source": [
        "Answer Here"
      ],
      "metadata": {
        "id": "jLNxxz7MYrdP"
      }
    },
    {
      "cell_type": "markdown",
      "source": [
        "#### Chart - 5"
      ],
      "metadata": {
        "id": "bamQiAODYuh1"
      }
    },
    {
      "cell_type": "code",
      "source": [
        "# Chart - 5 visualization code"
      ],
      "metadata": {
        "id": "TIJwrbroYuh3"
      },
      "execution_count": null,
      "outputs": []
    },
    {
      "cell_type": "markdown",
      "source": [
        "##### 1. Why did you pick the specific chart?"
      ],
      "metadata": {
        "id": "QHF8YVU7Yuh3"
      }
    },
    {
      "cell_type": "markdown",
      "source": [
        "Answer Here."
      ],
      "metadata": {
        "id": "dcxuIMRPYuh3"
      }
    },
    {
      "cell_type": "markdown",
      "source": [
        "##### 2. What is/are the insight(s) found from the chart?"
      ],
      "metadata": {
        "id": "GwzvFGzlYuh3"
      }
    },
    {
      "cell_type": "markdown",
      "source": [
        "Answer Here"
      ],
      "metadata": {
        "id": "uyqkiB8YYuh3"
      }
    },
    {
      "cell_type": "markdown",
      "source": [
        "##### 3. Will the gained insights help creating a positive business impact?\n",
        "Are there any insights that lead to negative growth? Justify with specific reason."
      ],
      "metadata": {
        "id": "qYpmQ266Yuh3"
      }
    },
    {
      "cell_type": "markdown",
      "source": [
        "Answer Here"
      ],
      "metadata": {
        "id": "_WtzZ_hCYuh4"
      }
    },
    {
      "cell_type": "markdown",
      "source": [
        "#### Chart - 6"
      ],
      "metadata": {
        "id": "OH-pJp9IphqM"
      }
    },
    {
      "cell_type": "code",
      "source": [
        "# Chart - 6 visualization code"
      ],
      "metadata": {
        "id": "kuRf4wtuphqN"
      },
      "execution_count": null,
      "outputs": []
    },
    {
      "cell_type": "markdown",
      "source": [
        "##### 1. Why did you pick the specific chart?"
      ],
      "metadata": {
        "id": "bbFf2-_FphqN"
      }
    },
    {
      "cell_type": "markdown",
      "source": [
        "Answer Here."
      ],
      "metadata": {
        "id": "loh7H2nzphqN"
      }
    },
    {
      "cell_type": "markdown",
      "source": [
        "##### 2. What is/are the insight(s) found from the chart?"
      ],
      "metadata": {
        "id": "_ouA3fa0phqN"
      }
    },
    {
      "cell_type": "markdown",
      "source": [
        "Answer Here"
      ],
      "metadata": {
        "id": "VECbqPI7phqN"
      }
    },
    {
      "cell_type": "markdown",
      "source": [
        "##### 3. Will the gained insights help creating a positive business impact?\n",
        "Are there any insights that lead to negative growth? Justify with specific reason."
      ],
      "metadata": {
        "id": "Seke61FWphqN"
      }
    },
    {
      "cell_type": "markdown",
      "source": [
        "Answer Here"
      ],
      "metadata": {
        "id": "DW4_bGpfphqN"
      }
    },
    {
      "cell_type": "markdown",
      "source": [
        "#### Chart - 7"
      ],
      "metadata": {
        "id": "PIIx-8_IphqN"
      }
    },
    {
      "cell_type": "code",
      "source": [
        "# Chart - 7 visualization code"
      ],
      "metadata": {
        "id": "lqAIGUfyphqO"
      },
      "execution_count": null,
      "outputs": []
    },
    {
      "cell_type": "markdown",
      "source": [
        "##### 1. Why did you pick the specific chart?"
      ],
      "metadata": {
        "id": "t27r6nlMphqO"
      }
    },
    {
      "cell_type": "markdown",
      "source": [
        "Answer Here."
      ],
      "metadata": {
        "id": "iv6ro40sphqO"
      }
    },
    {
      "cell_type": "markdown",
      "source": [
        "##### 2. What is/are the insight(s) found from the chart?"
      ],
      "metadata": {
        "id": "r2jJGEOYphqO"
      }
    },
    {
      "cell_type": "markdown",
      "source": [
        "Answer Here"
      ],
      "metadata": {
        "id": "Po6ZPi4hphqO"
      }
    },
    {
      "cell_type": "markdown",
      "source": [
        "##### 3. Will the gained insights help creating a positive business impact?\n",
        "Are there any insights that lead to negative growth? Justify with specific reason."
      ],
      "metadata": {
        "id": "b0JNsNcRphqO"
      }
    },
    {
      "cell_type": "markdown",
      "source": [
        "Answer Here"
      ],
      "metadata": {
        "id": "xvSq8iUTphqO"
      }
    },
    {
      "cell_type": "markdown",
      "source": [
        "#### Chart - 8"
      ],
      "metadata": {
        "id": "BZR9WyysphqO"
      }
    },
    {
      "cell_type": "code",
      "source": [
        "# Chart - 8 visualization code"
      ],
      "metadata": {
        "id": "TdPTWpAVphqO"
      },
      "execution_count": null,
      "outputs": []
    },
    {
      "cell_type": "markdown",
      "source": [
        "##### 1. Why did you pick the specific chart?"
      ],
      "metadata": {
        "id": "jj7wYXLtphqO"
      }
    },
    {
      "cell_type": "markdown",
      "source": [
        "Answer Here."
      ],
      "metadata": {
        "id": "Ob8u6rCTphqO"
      }
    },
    {
      "cell_type": "markdown",
      "source": [
        "##### 2. What is/are the insight(s) found from the chart?"
      ],
      "metadata": {
        "id": "eZrbJ2SmphqO"
      }
    },
    {
      "cell_type": "markdown",
      "source": [
        "Answer Here"
      ],
      "metadata": {
        "id": "mZtgC_hjphqO"
      }
    },
    {
      "cell_type": "markdown",
      "source": [
        "##### 3. Will the gained insights help creating a positive business impact?\n",
        "Are there any insights that lead to negative growth? Justify with specific reason."
      ],
      "metadata": {
        "id": "rFu4xreNphqO"
      }
    },
    {
      "cell_type": "markdown",
      "source": [
        "Answer Here"
      ],
      "metadata": {
        "id": "ey_0qi68phqO"
      }
    },
    {
      "cell_type": "markdown",
      "source": [
        "#### Chart - 9"
      ],
      "metadata": {
        "id": "YJ55k-q6phqO"
      }
    },
    {
      "cell_type": "code",
      "source": [
        "# Chart - 9 visualization code"
      ],
      "metadata": {
        "id": "B2aS4O1ophqO"
      },
      "execution_count": null,
      "outputs": []
    },
    {
      "cell_type": "markdown",
      "source": [
        "##### 1. Why did you pick the specific chart?"
      ],
      "metadata": {
        "id": "gCFgpxoyphqP"
      }
    },
    {
      "cell_type": "markdown",
      "source": [
        "Answer Here."
      ],
      "metadata": {
        "id": "TVxDimi2phqP"
      }
    },
    {
      "cell_type": "markdown",
      "source": [
        "##### 2. What is/are the insight(s) found from the chart?"
      ],
      "metadata": {
        "id": "OVtJsKN_phqQ"
      }
    },
    {
      "cell_type": "markdown",
      "source": [
        "Answer Here"
      ],
      "metadata": {
        "id": "ngGi97qjphqQ"
      }
    },
    {
      "cell_type": "markdown",
      "source": [
        "##### 3. Will the gained insights help creating a positive business impact?\n",
        "Are there any insights that lead to negative growth? Justify with specific reason."
      ],
      "metadata": {
        "id": "lssrdh5qphqQ"
      }
    },
    {
      "cell_type": "markdown",
      "source": [
        "Answer Here"
      ],
      "metadata": {
        "id": "tBpY5ekJphqQ"
      }
    },
    {
      "cell_type": "markdown",
      "source": [
        "#### Chart - 10"
      ],
      "metadata": {
        "id": "U2RJ9gkRphqQ"
      }
    },
    {
      "cell_type": "code",
      "source": [
        "# Chart - 10 visualization code"
      ],
      "metadata": {
        "id": "GM7a4YP4phqQ"
      },
      "execution_count": null,
      "outputs": []
    },
    {
      "cell_type": "markdown",
      "source": [
        "##### 1. Why did you pick the specific chart?"
      ],
      "metadata": {
        "id": "1M8mcRywphqQ"
      }
    },
    {
      "cell_type": "markdown",
      "source": [
        "Answer Here."
      ],
      "metadata": {
        "id": "8agQvks0phqQ"
      }
    },
    {
      "cell_type": "markdown",
      "source": [
        "##### 2. What is/are the insight(s) found from the chart?"
      ],
      "metadata": {
        "id": "tgIPom80phqQ"
      }
    },
    {
      "cell_type": "markdown",
      "source": [
        "Answer Here"
      ],
      "metadata": {
        "id": "Qp13pnNzphqQ"
      }
    },
    {
      "cell_type": "markdown",
      "source": [
        "##### 3. Will the gained insights help creating a positive business impact?\n",
        "Are there any insights that lead to negative growth? Justify with specific reason."
      ],
      "metadata": {
        "id": "JMzcOPDDphqR"
      }
    },
    {
      "cell_type": "markdown",
      "source": [
        "Answer Here"
      ],
      "metadata": {
        "id": "R4Ka1PC2phqR"
      }
    },
    {
      "cell_type": "markdown",
      "source": [
        "#### Chart - 11"
      ],
      "metadata": {
        "id": "x-EpHcCOp1ci"
      }
    },
    {
      "cell_type": "code",
      "source": [
        "# Chart - 11 visualization code"
      ],
      "metadata": {
        "id": "mAQTIvtqp1cj"
      },
      "execution_count": null,
      "outputs": []
    },
    {
      "cell_type": "markdown",
      "source": [
        "##### 1. Why did you pick the specific chart?"
      ],
      "metadata": {
        "id": "X_VqEhTip1ck"
      }
    },
    {
      "cell_type": "markdown",
      "source": [
        "Answer Here."
      ],
      "metadata": {
        "id": "-vsMzt_np1ck"
      }
    },
    {
      "cell_type": "markdown",
      "source": [
        "##### 2. What is/are the insight(s) found from the chart?"
      ],
      "metadata": {
        "id": "8zGJKyg5p1ck"
      }
    },
    {
      "cell_type": "markdown",
      "source": [
        "Answer Here"
      ],
      "metadata": {
        "id": "ZYdMsrqVp1ck"
      }
    },
    {
      "cell_type": "markdown",
      "source": [
        "##### 3. Will the gained insights help creating a positive business impact?\n",
        "Are there any insights that lead to negative growth? Justify with specific reason."
      ],
      "metadata": {
        "id": "PVzmfK_Ep1ck"
      }
    },
    {
      "cell_type": "markdown",
      "source": [
        "Answer Here"
      ],
      "metadata": {
        "id": "druuKYZpp1ck"
      }
    },
    {
      "cell_type": "markdown",
      "source": [
        "#### Chart - 12"
      ],
      "metadata": {
        "id": "n3dbpmDWp1ck"
      }
    },
    {
      "cell_type": "code",
      "source": [
        "# Chart - 12 visualization code"
      ],
      "metadata": {
        "id": "bwevp1tKp1ck"
      },
      "execution_count": null,
      "outputs": []
    },
    {
      "cell_type": "markdown",
      "source": [
        "##### 1. Why did you pick the specific chart?"
      ],
      "metadata": {
        "id": "ylSl6qgtp1ck"
      }
    },
    {
      "cell_type": "markdown",
      "source": [
        "Answer Here."
      ],
      "metadata": {
        "id": "m2xqNkiQp1ck"
      }
    },
    {
      "cell_type": "markdown",
      "source": [
        "##### 2. What is/are the insight(s) found from the chart?"
      ],
      "metadata": {
        "id": "ZWILFDl5p1ck"
      }
    },
    {
      "cell_type": "markdown",
      "source": [
        "Answer Here"
      ],
      "metadata": {
        "id": "x-lUsV2mp1ck"
      }
    },
    {
      "cell_type": "markdown",
      "source": [
        "##### 3. Will the gained insights help creating a positive business impact?\n",
        "Are there any insights that lead to negative growth? Justify with specific reason."
      ],
      "metadata": {
        "id": "M7G43BXep1ck"
      }
    },
    {
      "cell_type": "markdown",
      "source": [
        "Answer Here"
      ],
      "metadata": {
        "id": "5wwDJXsLp1cl"
      }
    },
    {
      "cell_type": "markdown",
      "source": [
        "#### Chart - 13"
      ],
      "metadata": {
        "id": "Ag9LCva-p1cl"
      }
    },
    {
      "cell_type": "code",
      "source": [
        "# Chart - 13 visualization code"
      ],
      "metadata": {
        "id": "EUfxeq9-p1cl"
      },
      "execution_count": null,
      "outputs": []
    },
    {
      "cell_type": "markdown",
      "source": [
        "##### 1. Why did you pick the specific chart?"
      ],
      "metadata": {
        "id": "E6MkPsBcp1cl"
      }
    },
    {
      "cell_type": "markdown",
      "source": [
        "Answer Here."
      ],
      "metadata": {
        "id": "V22bRsFWp1cl"
      }
    },
    {
      "cell_type": "markdown",
      "source": [
        "##### 2. What is/are the insight(s) found from the chart?"
      ],
      "metadata": {
        "id": "2cELzS2fp1cl"
      }
    },
    {
      "cell_type": "markdown",
      "source": [
        "Answer Here"
      ],
      "metadata": {
        "id": "ozQPc2_Ip1cl"
      }
    },
    {
      "cell_type": "markdown",
      "source": [
        "##### 3. Will the gained insights help creating a positive business impact?\n",
        "Are there any insights that lead to negative growth? Justify with specific reason."
      ],
      "metadata": {
        "id": "3MPXvC8up1cl"
      }
    },
    {
      "cell_type": "markdown",
      "source": [
        "Answer Here"
      ],
      "metadata": {
        "id": "GL8l1tdLp1cl"
      }
    },
    {
      "cell_type": "markdown",
      "source": [
        "#### Chart - 14 - Correlation Heatmap"
      ],
      "metadata": {
        "id": "NC_X3p0fY2L0"
      }
    },
    {
      "cell_type": "code",
      "source": [
        "# Correlation Heatmap visualization code"
      ],
      "metadata": {
        "id": "xyC9zolEZNRQ"
      },
      "execution_count": null,
      "outputs": []
    },
    {
      "cell_type": "markdown",
      "source": [
        "##### 1. Why did you pick the specific chart?"
      ],
      "metadata": {
        "id": "UV0SzAkaZNRQ"
      }
    },
    {
      "cell_type": "markdown",
      "source": [
        "Answer Here."
      ],
      "metadata": {
        "id": "DVPuT8LYZNRQ"
      }
    },
    {
      "cell_type": "markdown",
      "source": [
        "##### 2. What is/are the insight(s) found from the chart?"
      ],
      "metadata": {
        "id": "YPEH6qLeZNRQ"
      }
    },
    {
      "cell_type": "markdown",
      "source": [
        "Answer Here"
      ],
      "metadata": {
        "id": "bfSqtnDqZNRR"
      }
    },
    {
      "cell_type": "markdown",
      "source": [
        "#### Chart - 15 - Pair Plot"
      ],
      "metadata": {
        "id": "q29F0dvdveiT"
      }
    },
    {
      "cell_type": "code",
      "source": [
        "# Pair Plot visualization code"
      ],
      "metadata": {
        "id": "o58-TEIhveiU"
      },
      "execution_count": null,
      "outputs": []
    },
    {
      "cell_type": "markdown",
      "source": [
        "##### 1. Why did you pick the specific chart?"
      ],
      "metadata": {
        "id": "EXh0U9oCveiU"
      }
    },
    {
      "cell_type": "markdown",
      "source": [
        "Answer Here."
      ],
      "metadata": {
        "id": "eMmPjTByveiU"
      }
    },
    {
      "cell_type": "markdown",
      "source": [
        "##### 2. What is/are the insight(s) found from the chart?"
      ],
      "metadata": {
        "id": "22aHeOlLveiV"
      }
    },
    {
      "cell_type": "markdown",
      "source": [
        "Answer Here"
      ],
      "metadata": {
        "id": "uPQ8RGwHveiV"
      }
    },
    {
      "cell_type": "markdown",
      "source": [
        "## **5. Solution to Business Objective**"
      ],
      "metadata": {
        "id": "JcMwzZxoAimU"
      }
    },
    {
      "cell_type": "markdown",
      "source": [
        "#### What do you suggest the client to achieve Business Objective ?\n",
        "Explain Briefly."
      ],
      "metadata": {
        "id": "8G2x9gOozGDZ"
      }
    },
    {
      "cell_type": "markdown",
      "source": [
        "Answer Here."
      ],
      "metadata": {
        "id": "pASKb0qOza21"
      }
    },
    {
      "cell_type": "markdown",
      "source": [
        "# **Conclusion**"
      ],
      "metadata": {
        "id": "gCX9965dhzqZ"
      }
    },
    {
      "cell_type": "markdown",
      "source": [
        "Write the conclusion here."
      ],
      "metadata": {
        "id": "Fjb1IsQkh3yE"
      }
    },
    {
      "cell_type": "markdown",
      "source": [
        "### ***Hurrah! You have successfully completed your EDA Capstone Project !!!***"
      ],
      "metadata": {
        "id": "gIfDvo9L0UH2"
      }
    }
  ]
}